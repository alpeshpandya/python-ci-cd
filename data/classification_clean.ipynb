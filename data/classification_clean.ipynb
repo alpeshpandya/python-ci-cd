{
 "cells": [
  {
   "cell_type": "code",
   "execution_count": 13,
   "metadata": {},
   "outputs": [],
   "source": [
    "\"Simple classification example\"\n",
    "import unittest\n",
    "import pickle\n",
    "from sklearn.datasets import load_breast_cancer\n",
    "from sklearn.model_selection import train_test_split\n",
    "from sklearn.naive_bayes import GaussianNB\n",
    "from sklearn2pmml.pipeline import PMMLPipeline\n",
    "from sklearn2pmml import sklearn2pmml\n",
    "from sklearn.externals import joblib"
   ]
  },
  {
   "cell_type": "code",
   "execution_count": 14,
   "metadata": {},
   "outputs": [],
   "source": [
    "def build_model():\n",
    "    \"Builds classification model\"\n",
    "    data = load_breast_cancer()\n",
    "    labels = data['target']\n",
    "    features = data['data']\n",
    "    train, test, train_labels, test_labels = train_test_split(\n",
    "        features,\n",
    "        labels,\n",
    "        test_size=0.33,\n",
    "        random_state=42)\n",
    "    gnb = GaussianNB()\n",
    "    model = gnb.fit(train, train_labels)\n",
    "    gnb_pipeline = PMMLPipeline([\n",
    "                        (\"classifier\", GaussianNB())\n",
    "                    ])\n",
    "    gnb_pipeline.fit(train, train_labels)\n",
    "    sklearn2pmml(gnb_pipeline, \"data/BC_gnb.pmml\", with_repr = True)\n",
    "    joblib.dump(model, \"data/BC_gnb.pkl\")\n",
    "    return gnb_pipeline"
   ]
  },
  {
   "cell_type": "code",
   "execution_count": 15,
   "metadata": {},
   "outputs": [],
   "source": [
    "def test_model(model, value):\n",
    "    \"Run model on given value\"\n",
    "    return model.predict(value)"
   ]
  },
  {
   "cell_type": "code",
   "execution_count": 16,
   "metadata": {},
   "outputs": [],
   "source": [
    "class ClassificationTest(unittest.TestCase):\n",
    "    \"\"\"Example of how to use unittest in Jupyter.\"\"\"\n",
    "    def setUp(self):\n",
    "        self.test_model = build_model()\n",
    "        self.positive_test = [[1.247e+01, 1.860e+01, 8.109e+01, 4.819e+02, 9.965e-02\n",
    "                               , 1.058e-01, 8.005e-02, 3.821e-02, 1.925e-01, 6.373e-02\n",
    "                               , 3.961e-01, 1.044e+00, 2.497e+00, 3.029e+01, 6.953e-03\n",
    "                               , 1.911e-02, 2.701e-02, 1.037e-02, 1.782e-02, 3.586e-03\n",
    "                               , 1.497e+01, 2.464e+01, 9.605e+01, 6.779e+02, 1.426e-01\n",
    "                               , 2.378e-01, 2.671e-01, 1.015e-01, 3.014e-01, 8.750e-02]]\n",
    "        self.negative_test = [[1.894e+01, 2.131e+01, 1.236e+02, 1.130e+03, 9.009e-02\n",
    "                               , 1.029e-01, 1.080e-01, 7.951e-02, 1.582e-01, 5.461e-02\n",
    "                               , 7.888e-01, 7.975e-01, 5.486e+00, 9.605e+01, 4.444e-03\n",
    "                               , 1.652e-02, 2.269e-02, 1.370e-02, 1.386e-02, 1.698e-03\n",
    "                               , 2.486e+01, 2.658e+01, 1.659e+02, 1.866e+03, 1.193e-01\n",
    "                               , 2.336e-01, 2.687e-01, 1.789e-01, 2.551e-01, 6.589e-02]]\n",
    "    def testPositive(self):\n",
    "        \"Test positive result\"\n",
    "        positive_value = test_model(self.test_model, self.positive_test)\n",
    "        self.assertEqual(positive_value[0], 1)\n",
    "        \n",
    "    def testNegative(self):\n",
    "        \"Test negative result\"\n",
    "        negative_value = test_model(self.test_model, self.negative_test)\n",
    "        self.assertEqual(negative_value[0], 0)"
   ]
  }
 ],
 "metadata": {
  "kernelspec": {
   "display_name": "Python 2",
   "language": "python",
   "name": "python2"
  },
  "language_info": {
   "codemirror_mode": {
    "name": "ipython",
    "version": 2
   },
   "file_extension": ".py",
   "mimetype": "text/x-python",
   "name": "python",
   "nbconvert_exporter": "python",
   "pygments_lexer": "ipython2",
   "version": "2.7.14"
  }
 },
 "nbformat": 4,
 "nbformat_minor": 2
}
